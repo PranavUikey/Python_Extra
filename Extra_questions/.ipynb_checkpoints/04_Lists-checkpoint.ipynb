{
 "cells": [
  {
   "cell_type": "markdown",
   "metadata": {
    "id": "qw0NPWR6Rv5v"
   },
   "source": [
    "# <center>Lists Practice Questions</center>"
   ]
  },
  {
   "cell_type": "markdown",
   "metadata": {},
   "source": [
    "### <center>Difficulty Level : Easy</center>"
   ]
  },
  {
   "cell_type": "markdown",
   "metadata": {},
   "source": [
    "- Create a function that will reverse a given list.\n",
    "\n",
    "    **Example :**\n",
    "\n",
    "```python\n",
    "def reverse_list(numbers):\n",
    "    ### your code here\n",
    "    \n",
    "list1 = [8, 6, 4, 2, 0]\n",
    "reverse_list(list1)\n",
    "\n",
    ">>> [0, 2, 4, 6, 8]\n",
    "```"
   ]
  },
  {
   "cell_type": "markdown",
   "metadata": {},
   "source": [
    "- Create a function that will display the square of every element of the list provided as an argument.\n",
    "\n",
    "    **Example :**\n",
    " \n",
    "```python\n",
    "def square_list(list_numbers):\n",
    "    ### your code here\n",
    "\n",
    "list2 = [1, 2, 3, 4, 5]\n",
    "square_list(list2)\n",
    ">>> 1\n",
    "    4\n",
    "    9\n",
    "    16\n",
    "    25\n",
    "```"
   ]
  },
  {
   "cell_type": "markdown",
   "metadata": {},
   "source": [
    "- Create a function that will take list of `fruits` and a `new_fruit` as 2 arguments. Add the `new_fruit` into the list of `fruits` and display the updated list. Also, try adding the `new_fruit` at the index position 2.\n",
    "\n",
    "    **Example :**\n",
    "\n",
    "```python\n",
    "def to_append(fruits, new_fruit):\n",
    "    ### your code here\n",
    "\n",
    "fruits = ['banana', 'orange', 'mango', 'lemon']\n",
    "new_fruit = 'blueberry'\n",
    "\n",
    "to_append(fruits, new_fruit)\n",
    "\n",
    ">>> ['banana', 'orange', 'mango', 'lemon', 'blueberry']\n",
    "\n",
    "to_append(fruits, new_fruit)\n",
    "\n",
    ">>> ['banana', 'orange','blueberry' ,'mango', 'lemon',]\n",
    "```"
   ]
  },
  {
   "cell_type": "markdown",
   "metadata": {},
   "source": [
    "- Create a function that will take a list as an argument and return an updated list after removing empty strings from the list. `list3 = [\"Vivek\", \"\", \"Ankur\", \"aiadventures\", \"\", \"Pranav\"]`.\n",
    "\n",
    "    **Example :**\n",
    " \n",
    "```python\n",
    "def remove_spaces(list_names):\n",
    "    ### your code here\n",
    "\n",
    "list3 = [\"Vivek\", \"\", \"Ankur\", \"aiadventures\", \"\", \"Pranav\"]\n",
    "remove_spaces(list3)\n",
    "\n",
    ">>> ['Vivek', 'Ankur', 'aiadventures', 'Pranav']\n",
    "```"
   ]
  },
  {
   "cell_type": "markdown",
   "metadata": {},
   "source": [
    "### <center>Difficulty Level : Medium</center>"
   ]
  },
  {
   "cell_type": "markdown",
   "metadata": {},
   "source": [
    "- Create a function that takes 2 lists as arguments and it iterates over both lists simultaneously such that output should display items in original order from 1st list and elements from 2nd list in reverse order. \n",
    "\n",
    "    **Note :** Please give attention to the output as it doesn't include `[]` brackets.\n",
    "\n",
    "    **Example :**\n",
    " \n",
    "```python\n",
    "def reverse_list(first, second):\n",
    "    ### your code here\n",
    "\n",
    "list4 = [10, 20, 30, 40]\n",
    "list5 = [100, 200, 300, 400]\n",
    "\n",
    "reverse_list(list4, list5)\n",
    ">>> 10 20 30 40 400 300 200 100 \n",
    "```"
   ]
  },
  {
   "cell_type": "markdown",
   "metadata": {},
   "source": [
    "- Create a function that takes 2 lists as arguments and returns a new single list by performing the string replication between the elements of the lists. The elements should be selected in original order from the 1st list and in reverse order from the 2nd list.\n",
    "\n",
    "    **Example :**\n",
    " \n",
    "```python\n",
    "def multiply_elements(first, second):\n",
    "    ### your code here\n",
    "\n",
    "list4 = ['Ai', 'Adventures', 'Python', 'ML']\n",
    "list5 = [1, 2, 3, 4]\n",
    "\n",
    "reverse_list(list4, list5)\n",
    ">>> ['AiAiAiAi', 'AdventuresAdventuresAdventures', 'PythonPython','ML'] \n",
    "```"
   ]
  },
  {
   "cell_type": "markdown",
   "metadata": {},
   "source": [
    "- Write a program to find the least positive integer missing from a list of input integers.\n",
    "\n",
    "    **Example :** \n",
    "\n",
    "```Python\n",
    "\n",
    "def least_positive_integer(input_list):\n",
    "    # your code here\n",
    "\n",
    "\n",
    "\n",
    "List_1 = [1,-2,3,0,7,8,5,2,-6]\n",
    "\n",
    "least_positive_integer(List_1)\n",
    ">>> 4\n",
    "    \n",
    "List_2 = [3,7,-1,8,9,10]\n",
    "\n",
    "least_positive_integer(List_2)\n",
    ">>> 1\n",
    "    \n",
    "```"
   ]
  },
  {
   "cell_type": "markdown",
   "metadata": {},
   "source": [
    "### <center>Difficulty Level : Hard</center>"
   ]
  },
  {
   "cell_type": "markdown",
   "metadata": {},
   "source": [
    "- We're using lists to record people that attended our party and in the order they arrive in. For example, the following list represents a party with 7 guests, in which Adela showed up first and Ford was the last to arrive:\n",
    "\n",
    "    `party_attendees = ['Adela', 'Fleda', 'Owen', 'May', 'Mona', 'Gilbert', 'Ford']`\n",
    "\n",
    "    A guest is considered **fashionably late** if they arrived after at least half of the party's guests. However, they must not be the very last guest (that's taking it too far). In the above example, Mona and Gilbert are the only guests who were fashionably late.\n",
    "\n",
    "    Create a function which takes a list of party attendees as well as a person as arguments and displays whether that person is fashionably late or not.\n",
    "\n",
    "   **Example :**\n",
    "\n",
    "```python\n",
    "def fashionably_late(arrivals, name):\n",
    "    ### your code here\n",
    "\n",
    "party_attendees = ['Adela', 'Fleda', 'Owen', 'May', 'Mona', 'Gilbert', 'Ford']\n",
    "fashionably_late(party_attendees, 'Mona')\n",
    ">>> True\n",
    "fashionably_late(party_attendees, 'Ford')\n",
    ">>> False\n",
    "```"
   ]
  },
  {
   "cell_type": "markdown",
   "metadata": {},
   "source": [
    "- Create a function that takes 2 lists as arguments. The function should create a new list that contains alternate elements of both the lists and replaces the string elements of the new list with its own length.\n",
    "\n",
    "    **Note :** Use loops to update the empty lists.\n",
    "\n",
    "    **Example :**\n",
    " \n",
    "```python\n",
    "def list_operations(first, second):\n",
    "    ### your code here\n",
    "\n",
    "first = ['Ai', 'Adventures', 'Python']\n",
    "second = [10, 20, 30]\n",
    "list_operations(first, second):\n",
    ">>> \n",
    "Elements of the 1st List :  ['Ai', 'Adventures', 'Python']\n",
    "Elements of the 2nd List :  [10, 20, 30]\n",
    "List with alternate elements from the above 2 lists :  ['Ai', 10, 'Adventures', 20, 'Python', 30]\n",
    "Final output list :  [2, 10, 10, 20, 6, 30]\n",
    "    \n",
    "first = ['Jan', 'February', 'March', 72]\n",
    "second = [10, 20, 30, 'April']\n",
    "list_operations(first, second):\n",
    ">>> \n",
    "Elements of the 1st List :  ['Jan', 'February', 'March', 72]\n",
    "Elements of the 2nd List :  [10, 20, 30, 'April']\n",
    "List with alternate elements from the above 2 lists :  ['Jan', 10, 'February', 20, 'March', 30, 72, 'April']\n",
    "Final output list :  [3, 10, 8, 20, 5, 30, 72, 5]\n",
    "```"
   ]
  },
  {
   "cell_type": "markdown",
   "metadata": {},
   "source": [
    "# <center>Happy Learning!</center>"
   ]
  }
 ],
 "metadata": {
  "colab": {
   "name": "scratchpad",
   "provenance": []
  },
  "kernelspec": {
   "display_name": "Python 3 (ipykernel)",
   "language": "python",
   "name": "python3"
  },
  "language_info": {
   "codemirror_mode": {
    "name": "ipython",
    "version": 3
   },
   "file_extension": ".py",
   "mimetype": "text/x-python",
   "name": "python",
   "nbconvert_exporter": "python",
   "pygments_lexer": "ipython3",
   "version": "3.8.10"
  }
 },
 "nbformat": 4,
 "nbformat_minor": 1
}
